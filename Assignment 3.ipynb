{
 "cells": [
  {
   "cell_type": "code",
   "execution_count": null,
   "id": "2d929827",
   "metadata": {},
   "outputs": [],
   "source": [
    "List Questions:\n",
    "\n",
    "1. Write a program to find the sum of all elements in a list.\n",
    "\n",
    "2. Write a program to remove duplicates from a list.\n",
    "\n",
    "3. Write a program to find the maximum and minimum values in a list.\n",
    "\n",
    "4. Write a program to count the number of occurrences of a specific element in a list.\n",
    "\n",
    "5. Write a program to find the average of all numbers in a list.\n",
    "\n",
    "6. Write a program to reverse a list without using any built-in functions.\n",
    "\n",
    "7. Write a program to find the second largest element in a list.\n",
    "\n",
    "8. Write a program to check if a list is sorted in ascending order.\n",
    "\n",
    "9. Write a program to merge two lists and sort them in ascending order.\n",
    "\n",
    "10. Write a program to remove all even numbers from a list."
   ]
  },
  {
   "cell_type": "code",
   "execution_count": null,
   "id": "908c6037",
   "metadata": {},
   "outputs": [],
   "source": [
    "String Questions:\n",
    "\n",
    "1. Write a program to count the number of characters in a string.\n",
    "\n",
    "2. Write a program to check if a string is a palindrome.\n",
    "\n",
    "3. Write a program to reverse a string.\n",
    "\n",
    "4. Write a program to find the most frequent character in a string.\n",
    "\n",
    "5. Write a program to capitalize the first letter of each word in a sentence.\n",
    "\n",
    "6. Write a program to count the number of words in a string.\n",
    "\n",
    "7. Write a program to remove all vowels from a string.\n",
    "\n",
    "8. Write a program to check if two strings are anagrams.\n",
    "\n",
    "9. Write a program to convert a string to lowercase.\n",
    "\n",
    "10. Write a program to find the length of the longest word in a string."
   ]
  },
  {
   "cell_type": "code",
   "execution_count": null,
   "id": "957ae4a8",
   "metadata": {},
   "outputs": [],
   "source": []
  },
  {
   "cell_type": "code",
   "execution_count": null,
   "id": "e19993c7",
   "metadata": {},
   "outputs": [],
   "source": []
  },
  {
   "cell_type": "code",
   "execution_count": null,
   "id": "8d7f2a63",
   "metadata": {},
   "outputs": [],
   "source": []
  }
 ],
 "metadata": {
  "kernelspec": {
   "display_name": "Python 3 (ipykernel)",
   "language": "python",
   "name": "python3"
  },
  "language_info": {
   "codemirror_mode": {
    "name": "ipython",
    "version": 3
   },
   "file_extension": ".py",
   "mimetype": "text/x-python",
   "name": "python",
   "nbconvert_exporter": "python",
   "pygments_lexer": "ipython3",
   "version": "3.9.7"
  }
 },
 "nbformat": 4,
 "nbformat_minor": 5
}
