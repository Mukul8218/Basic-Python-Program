{
 "cells": [
  {
   "cell_type": "code",
   "execution_count": null,
   "id": "08397c87",
   "metadata": {},
   "outputs": [],
   "source": [
    "1. Write a Python program that prints the numbers from 1 to 10 using a for loop.\n",
    "\n",
    "2. Write a Python program to check if a given number is positive or negative using an if-else statement.\n",
    "\n",
    "3. Write a Python program to calculate the sum of all numbers from 1 to 100 using a while loop.\n",
    "\n",
    "4. Write a Python program that prints the Fibonacci series up to a given number 'n'.\n",
    "\n",
    "5. Write a Python program to find the largest number among three given numbers using nested if statements.\n",
    "\n",
    "6. Write a Python program that prints all the prime numbers between 1 and 100 using a for loop and an if statement.\n",
    "\n",
    "7. Write a Python program that counts the number of vowels in a given string using a for loop and an if statement.\n",
    "\n",
    "8. Write a Python program that finds the factorial of a given number using a while loop.\n",
    "\n",
    "9. Write a Python program to find the sum of all even numbers between 1 and 100 using a for loop and the continue statement.\n",
    "\n",
    "10. Write a Python program that checks if a given string is a palindrome or not using a while loop and an if statement."
   ]
  }
 ],
 "metadata": {
  "kernelspec": {
   "display_name": "Python 3 (ipykernel)",
   "language": "python",
   "name": "python3"
  },
  "language_info": {
   "codemirror_mode": {
    "name": "ipython",
    "version": 3
   },
   "file_extension": ".py",
   "mimetype": "text/x-python",
   "name": "python",
   "nbconvert_exporter": "python",
   "pygments_lexer": "ipython3",
   "version": "3.11.5"
  }
 },
 "nbformat": 4,
 "nbformat_minor": 5
}
