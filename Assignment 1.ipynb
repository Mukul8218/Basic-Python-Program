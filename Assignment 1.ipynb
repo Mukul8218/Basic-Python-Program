{
 "cells": [
  {
   "cell_type": "markdown",
   "id": "b80d2f5a",
   "metadata": {},
   "source": [
    "### Solve all the given Questions:"
   ]
  },
  {
   "cell_type": "code",
   "execution_count": null,
   "id": "7e5dca0f",
   "metadata": {},
   "outputs": [],
   "source": [
    "1. Write a Python program to calculate the sum of two numbers entered by the user.\n",
    "2. Write a Python program to find the maximum of three numbers.\n",
    "3. Write a program to swap the values of two variables without using a third variable.\n",
    "4. Write a program to check if a number is prime or not.\n",
    "5. Implement a Python program to reverse a given list without using built-in reverse functions.\n",
    "6. Write a program to calculate the average of a list of numbers.\n",
    "7. Implement a Python program to find the largest element in a list.\n",
    "8. Implement a Python program to find the smallest element in a list."
   ]
  },
  {
   "cell_type": "code",
   "execution_count": null,
   "id": "6d8e4f40",
   "metadata": {},
   "outputs": [],
   "source": []
  }
 ],
 "metadata": {
  "kernelspec": {
   "display_name": "Python 3 (ipykernel)",
   "language": "python",
   "name": "python3"
  },
  "language_info": {
   "codemirror_mode": {
    "name": "ipython",
    "version": 3
   },
   "file_extension": ".py",
   "mimetype": "text/x-python",
   "name": "python",
   "nbconvert_exporter": "python",
   "pygments_lexer": "ipython3",
   "version": "3.11.5"
  }
 },
 "nbformat": 4,
 "nbformat_minor": 5
}
